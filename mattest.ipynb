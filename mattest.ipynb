{
 "cells": [
  {
   "cell_type": "code",
   "execution_count": 1,
   "metadata": {},
   "outputs": [],
   "source": [
    "import numpy as np\n",
    "import sympy as sp\n",
    "from sympy.interactive.printing import init_printing\n",
    "from IPython.display import display, Math"
   ]
  },
  {
   "cell_type": "code",
   "execution_count": 2,
   "metadata": {},
   "outputs": [],
   "source": [
    "init_printing(use_unicode=False, wrap_line=False)"
   ]
  },
  {
   "cell_type": "markdown",
   "metadata": {},
   "source": [
    "# Wedderburn "
   ]
  },
  {
   "cell_type": "code",
   "execution_count": 3,
   "metadata": {},
   "outputs": [
    {
     "data": {
      "text/latex": [
       "$$\\left[\\begin{matrix}445 & 890 & 726 & 671\\\\88 & 834 & 459 & 699\\\\548 & 152 & 673 & 982\\\\643 & 791 & 478 & 437\\\\110 & 420 & 259 & 132\\\\329 & 832 & 747 & 662\\end{matrix}\\right]$$"
      ],
      "text/plain": [
       "[445  890  726  671]\n",
       "[                  ]\n",
       "[88   834  459  699]\n",
       "[                  ]\n",
       "[548  152  673  982]\n",
       "[                  ]\n",
       "[643  791  478  437]\n",
       "[                  ]\n",
       "[110  420  259  132]\n",
       "[                  ]\n",
       "[329  832  747  662]"
      ]
     },
     "execution_count": 3,
     "metadata": {},
     "output_type": "execute_result"
    }
   ],
   "source": [
    "C = np.random.randint(size = (6,4), high = 1000, low = 1)\n",
    "sp.Matrix(C)"
   ]
  },
  {
   "cell_type": "code",
   "execution_count": 4,
   "metadata": {},
   "outputs": [],
   "source": [
    "def wedd(A):\n",
    "    B = A\n",
    "    r = np.linalg.matrix_rank(A)\n",
    "    (m,n) = A.shape\n",
    "    i1 = np.identity(max(m,n))[np.ix_(list(range(m)),list(range(n)))]\n",
    "    i2 = i1.T\n",
    "    k = 0\n",
    "    ans = []\n",
    "    ans.append(B)\n",
    "    ind = np.nonzero(B)\n",
    "    non = (ind[0][0],ind[1][0])\n",
    "    s = []\n",
    "    while(abs(B[non]) > 1e-5):\n",
    "        ei = i2[:,[non[1]]]\n",
    "        ej = i1[:,[non[0]]]\n",
    "        w = np.matmul(ej.T,np.matmul(B,ei))\n",
    "        eij = np.matmul(ei,ej.T)\n",
    "        s.append((np.matmul(B,np.matmul(eij,B))/w))\n",
    "        B = B - s[k]\n",
    "        B[abs(B)<1e-8] = 0\n",
    "        ans.append(B)\n",
    "        ind = np.nonzero(B)\n",
    "        try:\n",
    "            non = (ind[0][0],ind[1][0])\n",
    "        except IndexError:\n",
    "            non = (0,0)\n",
    "        k += 1\n",
    "    return(ans,s)"
   ]
  },
  {
   "cell_type": "code",
   "execution_count": 5,
   "metadata": {},
   "outputs": [],
   "source": [
    "a = wedd(C)"
   ]
  },
  {
   "cell_type": "markdown",
   "metadata": {},
   "source": [
    "### The Wedderburn Matrices"
   ]
  },
  {
   "cell_type": "code",
   "execution_count": 6,
   "metadata": {},
   "outputs": [
    {
     "data": {
      "text/latex": [
       "$\\displaystyle \\left[\\begin{matrix}445 & 890 & 726 & 671\\\\88 & 834 & 459 & 699\\\\548 & 152 & 673 & 982\\\\643 & 791 & 478 & 437\\\\110 & 420 & 259 & 132\\\\329 & 832 & 747 & 662\\end{matrix}\\right]$"
      ],
      "text/plain": [
       "<IPython.core.display.Math object>"
      ]
     },
     "metadata": {},
     "output_type": "display_data"
    },
    {
     "data": {
      "text/latex": [
       "$\\displaystyle \\left[\\begin{matrix}0.0 & 0.0 & 0.0 & 0.0\\\\0.0 & 658.0 & 315.431460674157 & 566.307865168539\\\\0.0 & -944.0 & -221.040449438202 & 155.689887640449\\\\0.0 & -495.0 & -571.029213483146 & -532.557303370786\\\\0.0 & 200.0 & 79.5393258426966 & -33.8651685393259\\\\0.0 & 174.0 & 210.249438202247 & 165.912359550562\\end{matrix}\\right]$"
      ],
      "text/plain": [
       "<IPython.core.display.Math object>"
      ]
     },
     "metadata": {},
     "output_type": "display_data"
    },
    {
     "data": {
      "text/latex": [
       "$\\displaystyle \\left[\\begin{matrix}0.0 & 0.0 & 0.0 & 0.0\\\\0.0 & 0.0 & 0.0 & 0.0\\\\0.0 & 0.0 & 231.493439431713 & 968.14372459957\\\\0.0 & 0.0 & -333.73654929818 & -106.535429117858\\\\0.0 & 0.0 & -16.3364980704211 & -205.995218742529\\\\0.0 & 0.0 & 126.837471397835 & 16.1592158737748\\end{matrix}\\right]$"
      ],
      "text/plain": [
       "<IPython.core.display.Math object>"
      ]
     },
     "metadata": {},
     "output_type": "display_data"
    },
    {
     "data": {
      "text/latex": [
       "$\\displaystyle \\left[\\begin{matrix}0.0 & 0.0 & 0.0 & 0.0\\\\0.0 & 0.0 & 0.0 & 0.0\\\\0.0 & 0.0 & 0.0 & 0.0\\\\0.0 & 0.0 & 0.0 & 1289.20583536777\\\\0.0 & 0.0 & 0.0 & -137.67329079659\\\\0.0 & 0.0 & 0.0 & -514.295998232257\\end{matrix}\\right]$"
      ],
      "text/plain": [
       "<IPython.core.display.Math object>"
      ]
     },
     "metadata": {},
     "output_type": "display_data"
    },
    {
     "data": {
      "text/latex": [
       "$\\displaystyle \\left[\\begin{matrix}0.0 & 0.0 & 0.0 & 0.0\\\\0.0 & 0.0 & 0.0 & 0.0\\\\0.0 & 0.0 & 0.0 & 0.0\\\\0.0 & 0.0 & 0.0 & 0.0\\\\0.0 & 0.0 & 0.0 & 0.0\\\\0.0 & 0.0 & 0.0 & 0.0\\end{matrix}\\right]$"
      ],
      "text/plain": [
       "<IPython.core.display.Math object>"
      ]
     },
     "metadata": {},
     "output_type": "display_data"
    }
   ],
   "source": [
    "for i in range(len(a[0])):\n",
    "    t = sp.latex(sp.Matrix(a[0][i]))\n",
    "    r = r'{}'.format(t)\n",
    "    display(Math(r))"
   ]
  },
  {
   "cell_type": "code",
   "execution_count": 9,
   "metadata": {},
   "outputs": [
    {
     "data": {
      "text/plain": [
       "2"
      ]
     },
     "execution_count": 9,
     "metadata": {},
     "output_type": "execute_result"
    }
   ],
   "source": [
    "np.linalg.matrix_rank(a[0][2])"
   ]
  },
  {
   "cell_type": "markdown",
   "metadata": {},
   "source": [
    "### Matrix A as a sum of rank one Matrices"
   ]
  },
  {
   "cell_type": "code",
   "execution_count": 10,
   "metadata": {},
   "outputs": [
    {
     "data": {
      "text/latex": [
       "$\\displaystyle \\left[\\begin{matrix}445.0 & 890.0 & 726.0 & 671.0\\\\88.0 & 176.0 & 143.568539325843 & 132.692134831461\\\\548.0 & 1096.0 & 894.040449438202 & 826.310112359551\\\\643.0 & 1286.0 & 1049.02921348315 & 969.557303370786\\\\110.0 & 220.0 & 179.460674157303 & 165.865168539326\\\\329.0 & 658.0 & 536.750561797753 & 496.087640449438\\end{matrix}\\right]$"
      ],
      "text/plain": [
       "<IPython.core.display.Math object>"
      ]
     },
     "metadata": {},
     "output_type": "display_data"
    },
    {
     "data": {
      "text/latex": [
       "$\\displaystyle \\left[\\begin{matrix}0.0 & 0.0 & 0.0 & 0.0\\\\0.0 & 658.0 & 315.431460674157 & 566.307865168539\\\\0.0 & -944.0 & -452.533888869916 & -812.45383695912\\\\0.0 & -495.0 & -237.292664184966 & -426.021874252929\\\\0.0 & 200.0 & 95.8758239131177 & 172.130050203203\\\\0.0 & 174.0 & 83.4119668044124 & 149.753143676787\\end{matrix}\\right]$"
      ],
      "text/plain": [
       "<IPython.core.display.Math object>"
      ]
     },
     "metadata": {},
     "output_type": "display_data"
    },
    {
     "data": {
      "text/latex": [
       "$\\displaystyle \\left[\\begin{matrix}0.0 & 0.0 & 0.0 & 0.0\\\\0.0 & 0.0 & 0.0 & 0.0\\\\0.0 & 0.0 & 231.493439431713 & 968.14372459957\\\\0.0 & 0.0 & -333.73654929818 & -1395.74126448563\\\\0.0 & 0.0 & -16.3364980704211 & -68.3219279459392\\\\0.0 & 0.0 & 126.837471397835 & 530.455214106032\\end{matrix}\\right]$"
      ],
      "text/plain": [
       "<IPython.core.display.Math object>"
      ]
     },
     "metadata": {},
     "output_type": "display_data"
    },
    {
     "data": {
      "text/latex": [
       "$\\displaystyle \\left[\\begin{matrix}0.0 & 0.0 & 0.0 & 0.0\\\\0.0 & 0.0 & 0.0 & 0.0\\\\0.0 & 0.0 & 0.0 & 0.0\\\\0.0 & 0.0 & 0.0 & 1289.20583536777\\\\0.0 & 0.0 & 0.0 & -137.67329079659\\\\0.0 & 0.0 & 0.0 & -514.295998232257\\end{matrix}\\right]$"
      ],
      "text/plain": [
       "<IPython.core.display.Math object>"
      ]
     },
     "metadata": {},
     "output_type": "display_data"
    },
    {
     "data": {
      "text/latex": [
       "$$\\left[\\begin{matrix}445.0 & 890.0 & 726.0 & 671.0\\\\88.0 & 834.0 & 459.0 & 699.0\\\\548.0 & 152.0 & 673.0 & 982.0\\\\643.0 & 791.0 & 478.0 & 437.0\\\\110.0 & 420.0 & 259.0 & 132.0\\\\329.0 & 832.0 & 747.0 & 662.0\\end{matrix}\\right]$$"
      ],
      "text/plain": [
       "[445.0  890.0  726.0  671.0]\n",
       "[                          ]\n",
       "[88.0   834.0  459.0  699.0]\n",
       "[                          ]\n",
       "[548.0  152.0  673.0  982.0]\n",
       "[                          ]\n",
       "[643.0  791.0  478.0  437.0]\n",
       "[                          ]\n",
       "[110.0  420.0  259.0  132.0]\n",
       "[                          ]\n",
       "[329.0  832.0  747.0  662.0]"
      ]
     },
     "execution_count": 10,
     "metadata": {},
     "output_type": "execute_result"
    }
   ],
   "source": [
    "for i in range(len(a[1])):\n",
    "    t = sp.latex(sp.Matrix(a[1][i]))\n",
    "    r = r'{}'.format(t)\n",
    "    display(Math(r))\n",
    "(m,n) = a[1][0].shape\n",
    "p = np.zeros((m,n))\n",
    "for i in range(len(a[1])):\n",
    "    p = p + a[1][i]\n",
    "sp.Matrix(p)"
   ]
  },
  {
   "cell_type": "code",
   "execution_count": 18,
   "metadata": {},
   "outputs": [
    {
     "data": {
      "text/plain": [
       "1"
      ]
     },
     "execution_count": 18,
     "metadata": {},
     "output_type": "execute_result"
    }
   ],
   "source": [
    "np.linalg.matrix_rank(a[1][0])"
   ]
  },
  {
   "cell_type": "markdown",
   "metadata": {},
   "source": [
    "# Biconjugation"
   ]
  },
  {
   "cell_type": "code",
   "execution_count": 9,
   "metadata": {},
   "outputs": [],
   "source": [
    "def prin(A):\n",
    "    (m,n) = A.shape\n",
    "    l = []\n",
    "    flag = 0\n",
    "    for i in range(min(m,n)):\n",
    "        l.append(i)\n",
    "        if np.linalg.det(A[np.ix_(l,l)]) == 0:\n",
    "            return(0)\n",
    "    return(1)"
   ]
  },
  {
   "cell_type": "code",
   "execution_count": 50,
   "metadata": {},
   "outputs": [],
   "source": [
    "def bic(A, s):\n",
    "    m = A.shape[0]\n",
    "    n = A.shape[1]\n",
    "    r = np.linalg.matrix_rank(A)\n",
    "    u = []\n",
    "    v = []\n",
    "    w = []\n",
    "    if s == 'trapldu':\n",
    "        X = np.identity(n)[np.ix_(list(range(n)),list(range(r)))]\n",
    "        Y = np.identity(m)[np.ix_(list(range(m)),list(range(r)))]\n",
    "    elif s == 'qr':\n",
    "        X = np.identity(n)\n",
    "        Y = A\n",
    "    elif s == 'cholesky':\n",
    "        X = np.identity(m)\n",
    "        Y = np.identity(m)\n",
    "    else:\n",
    "        print('Invalid Choice')\n",
    "        return()\n",
    "    u.append(X[:,[0]])\n",
    "    v.append(Y[:,[0]])\n",
    "    for k in range(1,r):\n",
    "        sum1 = np.zeros((n,1))\n",
    "        sum2 = np.zeros((m,1))\n",
    "        for j in range(k):\n",
    "            sum1 = sum1 + ((float(np.matmul(np.matmul(v[j].T,A),X[:,[k]]))/float(np.matmul(np.matmul(v[j].T,A),u[j])))*u[j])\n",
    "            sum2 = sum2 + ((float(np.matmul(np.matmul(Y[:,[k]].T,A),u[j]))/float(np.matmul(np.matmul(v[j].T,A),u[j])))*v[j])\n",
    "        u.append(X[:,[k]] - sum1)\n",
    "        v.append(Y[:,[k]] - sum2)\n",
    "    for k in range(r):\n",
    "        w.append(float(np.matmul(np.matmul(v[k].T,A),u[k])))\n",
    "    U = np.concatenate(u, axis = 1)\n",
    "    V = np.concatenate(v, axis = 1)\n",
    "    W = np.diag(w)\n",
    "    if s == 'cholesky':\n",
    "        W1 = np.sqrt(W)\n",
    "        R = np.matmul(W1,np.linalg.inv(U))\n",
    "        return(R)\n",
    "    elif s == 'qr':\n",
    "        W1 = np.sqrt(W)\n",
    "        R = np.matmul(W1,np.linalg.inv(U))\n",
    "        Q = np.matmul(V,np.linalg.inv(W1))\n",
    "        return(Q,R)\n",
    "    elif s == 'trapldu':\n",
    "        L = np.matmul(A,U)\n",
    "        D = np.linalg.inv(W)\n",
    "        U = np.matmul(V.T,A)\n",
    "        return(L,D,U)\n",
    "    else:\n",
    "        print('Invalid Choice')\n",
    "        return()"
   ]
  },
  {
   "cell_type": "markdown",
   "metadata": {},
   "source": [
    "# QR Decomposition"
   ]
  },
  {
   "cell_type": "code",
   "execution_count": 30,
   "metadata": {},
   "outputs": [
    {
     "data": {
      "text/latex": [
       "$$\\left[\\begin{matrix}27 & 132 & 517\\\\822 & 476 & 196\\\\683 & 384 & 657\\\\369 & 190 & 29\\end{matrix}\\right]$$"
      ],
      "text/plain": [
       "[27   132  517]\n",
       "[             ]\n",
       "[822  476  196]\n",
       "[             ]\n",
       "[683  384  657]\n",
       "[             ]\n",
       "[369  190  29 ]"
      ]
     },
     "execution_count": 30,
     "metadata": {},
     "output_type": "execute_result"
    }
   ],
   "source": [
    "C = np.random.randint(size = (4,3), high = 1000, low = 1)\n",
    "sp.Matrix(C)"
   ]
  },
  {
   "cell_type": "code",
   "execution_count": 31,
   "metadata": {},
   "outputs": [],
   "source": [
    "R = bic(C, 'qr')"
   ]
  },
  {
   "cell_type": "code",
   "execution_count": 32,
   "metadata": {},
   "outputs": [
    {
     "data": {
      "text/latex": [
       "$\\displaystyle \\left[\\begin{matrix}27 & 132 & 517\\\\822 & 476 & 196\\\\683 & 384 & 657\\\\369 & 190 & 29\\end{matrix}\\right] = \\left[\\begin{matrix}0.0238735935730463 & 0.98262745175905 & 0.0439678603887169\\\\0.726818293223853 & 0.0728454000568019 & -0.58410406261796\\\\0.603913496681133 & -0.0364181294056424 & 0.792635423006578\\\\0.326272445498299 & -0.166764980108757 & -0.169169611577304\\end{matrix}\\right] \\left[\\begin{matrix}1130.95667467857 & 643.011369296428 & 561.032101588096\\\\0.0 & 118.711326146802 & 493.533195527901\\\\0.0 & 0.0 & 424.102541727427\\end{matrix}\\right]$"
      ],
      "text/plain": [
       "<IPython.core.display.Math object>"
      ]
     },
     "metadata": {},
     "output_type": "display_data"
    }
   ],
   "source": [
    "t = sp.latex(sp.Eq(sp.Matrix(C), sp.MatMul(sp.Matrix(R[0]), sp.Matrix(R[1]))))\n",
    "r = r'{}'.format(t)\n",
    "display(Math(r))"
   ]
  },
  {
   "cell_type": "code",
   "execution_count": 33,
   "metadata": {},
   "outputs": [
    {
     "data": {
      "text/latex": [
       "$$\\left[\\begin{matrix}27.0 & 132.0 & 517.0\\\\822.0 & 476.0 & 196.0\\\\683.0 & 384.0 & 657.0\\\\369.0 & 190.0 & 29.0\\end{matrix}\\right]$$"
      ],
      "text/plain": [
       "[27.0   132.0  517.0]\n",
       "[                   ]\n",
       "[822.0  476.0  196.0]\n",
       "[                   ]\n",
       "[683.0  384.0  657.0]\n",
       "[                   ]\n",
       "[369.0  190.0  29.0 ]"
      ]
     },
     "execution_count": 33,
     "metadata": {},
     "output_type": "execute_result"
    }
   ],
   "source": [
    "sp.Matrix(np.matmul(R[0],R[1]))"
   ]
  },
  {
   "cell_type": "code",
   "execution_count": 34,
   "metadata": {},
   "outputs": [
    {
     "name": "stdout",
     "output_type": "stream",
     "text": [
      "Q = \n"
     ]
    },
    {
     "data": {
      "text/latex": [
       "$$\\left[\\begin{matrix}0.0238735935730463 & 0.98262745175905 & 0.0439678603887169\\\\0.726818293223853 & 0.0728454000568019 & -0.58410406261796\\\\0.603913496681133 & -0.0364181294056424 & 0.792635423006578\\\\0.326272445498299 & -0.166764980108757 & -0.169169611577304\\end{matrix}\\right]$$"
      ],
      "text/plain": [
       "[0.0238735935730463   0.98262745175905    0.0439678603887169]\n",
       "[                                                           ]\n",
       "[0.726818293223853   0.0728454000568019   -0.58410406261796 ]\n",
       "[                                                           ]\n",
       "[0.603913496681133   -0.0364181294056424  0.792635423006578 ]\n",
       "[                                                           ]\n",
       "[0.326272445498299   -0.166764980108757   -0.169169611577304]"
      ]
     },
     "execution_count": 34,
     "metadata": {},
     "output_type": "execute_result"
    }
   ],
   "source": [
    "print('Q = ')\n",
    "sp.Matrix(R[0])"
   ]
  },
  {
   "cell_type": "code",
   "execution_count": 122,
   "metadata": {},
   "outputs": [
    {
     "name": "stdout",
     "output_type": "stream",
     "text": [
      "R = \n"
     ]
    },
    {
     "data": {
      "text/latex": [
       "$$\\left[\\begin{matrix}929.693497879812 & 737.449494444708 & 750.223596906524\\\\0.0 & 577.580507932222 & 381.787447312315\\\\0.0 & 0.0 & 563.340837965245\\end{matrix}\\right]$$"
      ],
      "text/plain": [
       "[929.693497879812  737.449494444708  750.223596906524]\n",
       "[                                                    ]\n",
       "[      0.0         577.580507932222  381.787447312315]\n",
       "[                                                    ]\n",
       "[      0.0               0.0         563.340837965245]"
      ]
     },
     "execution_count": 122,
     "metadata": {},
     "output_type": "execute_result"
    }
   ],
   "source": [
    "print('R = ')\n",
    "sp.Matrix(R[1])"
   ]
  },
  {
   "cell_type": "markdown",
   "metadata": {},
   "source": [
    "# Cholesky Factorisation"
   ]
  },
  {
   "cell_type": "code",
   "execution_count": 123,
   "metadata": {},
   "outputs": [],
   "source": [
    "A = np.random.randint(low = 1,high = 100, size = (3,3))\n",
    "C = np.dot(A,A.T)"
   ]
  },
  {
   "cell_type": "code",
   "execution_count": 124,
   "metadata": {},
   "outputs": [
    {
     "data": {
      "text/latex": [
       "$$\\left[\\begin{matrix}2821 & 1516 & 1484\\\\1516 & 1046 & 2079\\\\1484 & 2079 & 7881\\end{matrix}\\right]$$"
      ],
      "text/plain": [
       "[2821  1516  1484]\n",
       "[                ]\n",
       "[1516  1046  2079]\n",
       "[                ]\n",
       "[1484  2079  7881]"
      ]
     },
     "execution_count": 124,
     "metadata": {},
     "output_type": "execute_result"
    }
   ],
   "source": [
    "sp.Matrix(C)"
   ]
  },
  {
   "cell_type": "code",
   "execution_count": 125,
   "metadata": {},
   "outputs": [],
   "source": [
    "R = bic(C, 'cholesky')"
   ]
  },
  {
   "cell_type": "code",
   "execution_count": 126,
   "metadata": {},
   "outputs": [
    {
     "data": {
      "text/latex": [
       "$\\displaystyle \\left[\\begin{matrix}2821 & 1516 & 1484\\\\1516 & 1046 & 2079\\\\1484 & 2079 & 7881\\end{matrix}\\right] = \\left[\\begin{matrix}53.113086899558 & 0.0 & 0.0\\\\28.5428712299645 & 15.2086982332369 & 0.0\\\\27.940383182894 & 84.2610735673755 & 0.637549108993737\\end{matrix}\\right] \\left[\\begin{matrix}53.113086899558 & 28.5428712299645 & 27.940383182894\\\\0.0 & 15.2086982332369 & 84.2610735673755\\\\0.0 & 0.0 & 0.637549108993737\\end{matrix}\\right]$"
      ],
      "text/plain": [
       "<IPython.core.display.Math object>"
      ]
     },
     "metadata": {},
     "output_type": "display_data"
    }
   ],
   "source": [
    "t = sp.latex(sp.Eq(sp.Matrix(C), sp.MatMul(sp.Matrix(R.T), sp.Matrix(R))))\n",
    "r = r'{}'.format(t)\n",
    "display(Math(r))"
   ]
  },
  {
   "cell_type": "code",
   "execution_count": 127,
   "metadata": {},
   "outputs": [
    {
     "data": {
      "text/latex": [
       "$$\\left[\\begin{matrix}2821.0 & 1516.0 & 1484.0\\\\1516.0 & 1046.0 & 2079.0\\\\1484.0 & 2079.0 & 7881.0\\end{matrix}\\right]$$"
      ],
      "text/plain": [
       "[2821.0  1516.0  1484.0]\n",
       "[                      ]\n",
       "[1516.0  1046.0  2079.0]\n",
       "[                      ]\n",
       "[1484.0  2079.0  7881.0]"
      ]
     },
     "execution_count": 127,
     "metadata": {},
     "output_type": "execute_result"
    }
   ],
   "source": [
    "sp.Matrix(np.matmul(R.T,R))"
   ]
  },
  {
   "cell_type": "code",
   "execution_count": 128,
   "metadata": {},
   "outputs": [
    {
     "name": "stdout",
     "output_type": "stream",
     "text": [
      "R = \n"
     ]
    },
    {
     "data": {
      "text/latex": [
       "$$\\left[\\begin{matrix}53.113086899558 & 28.5428712299645 & 27.940383182894\\\\0.0 & 15.2086982332369 & 84.2610735673755\\\\0.0 & 0.0 & 0.637549108993737\\end{matrix}\\right]$$"
      ],
      "text/plain": [
       "[53.113086899558  28.5428712299645   27.940383182894 ]\n",
       "[                                                    ]\n",
       "[      0.0        15.2086982332369  84.2610735673755 ]\n",
       "[                                                    ]\n",
       "[      0.0              0.0         0.637549108993737]"
      ]
     },
     "execution_count": 128,
     "metadata": {},
     "output_type": "execute_result"
    }
   ],
   "source": [
    "print('R = ')\n",
    "sp.Matrix(R)"
   ]
  },
  {
   "cell_type": "markdown",
   "metadata": {},
   "source": [
    "# LDU Facatorisation"
   ]
  },
  {
   "cell_type": "code",
   "execution_count": 44,
   "metadata": {},
   "outputs": [
    {
     "data": {
      "text/latex": [
       "$$\\left[\\begin{matrix}492 & 406 & 19\\\\86 & 649 & 258\\\\881 & 650 & 634\\\\18 & 482 & 533\\\\568 & 670 & 175\\\\219 & 310 & 116\\\\633 & 640 & 277\\end{matrix}\\right]$$"
      ],
      "text/plain": [
       "[492  406  19 ]\n",
       "[             ]\n",
       "[86   649  258]\n",
       "[             ]\n",
       "[881  650  634]\n",
       "[             ]\n",
       "[18   482  533]\n",
       "[             ]\n",
       "[568  670  175]\n",
       "[             ]\n",
       "[219  310  116]\n",
       "[             ]\n",
       "[633  640  277]"
      ]
     },
     "execution_count": 44,
     "metadata": {},
     "output_type": "execute_result"
    }
   ],
   "source": [
    "C = np.random.randint(size = (7,3), high = 1000, low = 1)\n",
    "sp.Matrix(C)"
   ]
  },
  {
   "cell_type": "code",
   "execution_count": 45,
   "metadata": {},
   "outputs": [],
   "source": [
    "R = bic(C,'trapldu')"
   ]
  },
  {
   "cell_type": "code",
   "execution_count": 46,
   "metadata": {},
   "outputs": [],
   "source": [
    "a0 = R[0]\n",
    "a2 = R[2]\n",
    "a1 = R[1]"
   ]
  },
  {
   "cell_type": "code",
   "execution_count": 47,
   "metadata": {},
   "outputs": [],
   "source": [
    "a0[abs(a0)<1e-10] = 0\n",
    "a2[abs(a2)<1e-10] = 0\n",
    "a1[abs(a1)<1e-10] = 0"
   ]
  },
  {
   "cell_type": "code",
   "execution_count": 48,
   "metadata": {},
   "outputs": [
    {
     "data": {
      "text/latex": [
       "$\\displaystyle \\left[\\begin{matrix}492 & 406 & 19\\\\86 & 649 & 258\\\\881 & 650 & 634\\\\18 & 482 & 533\\\\568 & 670 & 175\\\\219 & 310 & 116\\\\633 & 640 & 277\\end{matrix}\\right] = \\left[\\begin{matrix}492.0 & 0.0 & 0.0\\\\86.0 & 578.032520325203 & 0.0\\\\881.0 & -77.0040650406504 & 633.905331373597\\\\18.0 & 467.146341463415 & 326.482031843371\\\\568.0 & 201.284552845528 & 64.3798559734451\\\\219.0 & 129.280487804878 & 50.5822069537821\\\\633.0 & 117.646341463415 & 200.720361332246\\end{matrix}\\right] \\left[\\begin{matrix}0.00203252032520325 & 0.0 & 0.0\\\\0.0 & 0.0017300064699429 & 0.0\\\\0.0 & 0.0 & 0.00157752262129287\\end{matrix}\\right] \\left[\\begin{matrix}492.0 & 406.0 & 19.0\\\\0.0 & 578.032520325203 & 254.678861788618\\\\0.0 & 0.0 & 633.905331373597\\end{matrix}\\right]$"
      ],
      "text/plain": [
       "<IPython.core.display.Math object>"
      ]
     },
     "metadata": {},
     "output_type": "display_data"
    }
   ],
   "source": [
    "t = sp.latex(sp.Eq(sp.Matrix(C), sp.MatMul(sp.MatMul(sp.Matrix(a0), sp.Matrix(a1), sp.Matrix(a2)))))\n",
    "r = r'{}'.format(t)\n",
    "display(Math(r))"
   ]
  },
  {
   "cell_type": "code",
   "execution_count": 49,
   "metadata": {},
   "outputs": [
    {
     "data": {
      "text/latex": [
       "$$\\left[\\begin{matrix}492.0 & 406.0 & 19.0\\\\86.0 & 649.0 & 258.0\\\\881.0 & 650.0 & 634.0\\\\18.0 & 482.0 & 533.0\\\\568.0 & 670.0 & 175.0\\\\219.0 & 310.0 & 116.0\\\\633.0 & 640.0 & 277.0\\end{matrix}\\right]$$"
      ],
      "text/plain": [
       "[492.0  406.0  19.0 ]\n",
       "[                   ]\n",
       "[86.0   649.0  258.0]\n",
       "[                   ]\n",
       "[881.0  650.0  634.0]\n",
       "[                   ]\n",
       "[18.0   482.0  533.0]\n",
       "[                   ]\n",
       "[568.0  670.0  175.0]\n",
       "[                   ]\n",
       "[219.0  310.0  116.0]\n",
       "[                   ]\n",
       "[633.0  640.0  277.0]"
      ]
     },
     "execution_count": 49,
     "metadata": {},
     "output_type": "execute_result"
    }
   ],
   "source": [
    "sp.Matrix(np.matmul(np.matmul(R[0],R[1]),R[2]))"
   ]
  },
  {
   "cell_type": "code",
   "execution_count": 182,
   "metadata": {},
   "outputs": [
    {
     "name": "stdout",
     "output_type": "stream",
     "text": [
      "L = \n"
     ]
    },
    {
     "data": {
      "text/latex": [
       "$$\\left[\\begin{matrix}1.0 & 0.0 & 0.0\\\\2.0 & -7.0 & 0.0\\\\3.0 & -11.0 & 0.428571428571431\\end{matrix}\\right]$$"
      ],
      "text/plain": [
       "[1.0   0.0          0.0       ]\n",
       "[                             ]\n",
       "[2.0  -7.0          0.0       ]\n",
       "[                             ]\n",
       "[3.0  -11.0  0.428571428571431]"
      ]
     },
     "execution_count": 182,
     "metadata": {},
     "output_type": "execute_result"
    }
   ],
   "source": [
    "print('L = ')\n",
    "sp.Matrix(a0)"
   ]
  },
  {
   "cell_type": "code",
   "execution_count": 183,
   "metadata": {},
   "outputs": [
    {
     "name": "stdout",
     "output_type": "stream",
     "text": [
      "D =\n"
     ]
    },
    {
     "data": {
      "text/latex": [
       "$$\\left[\\begin{matrix}1.0 & 0.0 & 0.0\\\\0.0 & -0.142857142857143 & 0.0\\\\0.0 & 0.0 & 2.33333333333334\\end{matrix}\\right]$$"
      ],
      "text/plain": [
       "[1.0         0.0                0.0       ]\n",
       "[                                         ]\n",
       "[0.0  -0.142857142857143        0.0       ]\n",
       "[                                         ]\n",
       "[0.0         0.0          2.33333333333334]"
      ]
     },
     "execution_count": 183,
     "metadata": {},
     "output_type": "execute_result"
    }
   ],
   "source": [
    "print('D =')\n",
    "sp.Matrix(a1)"
   ]
  },
  {
   "cell_type": "code",
   "execution_count": 184,
   "metadata": {},
   "outputs": [
    {
     "name": "stdout",
     "output_type": "stream",
     "text": [
      "U =\n"
     ]
    },
    {
     "data": {
      "text/latex": [
       "$$\\left[\\begin{matrix}1.0 & 5.0 & 8.0 & 1.0 & 5.0\\\\0.0 & -7.0 & -13.0 & 0.0 & -7.0\\\\0.0 & 0.0 & 0.428571428571428 & 0.0 & 0.0\\end{matrix}\\right]$$"
      ],
      "text/plain": [
       "[1.0  5.0          8.0         1.0  5.0 ]\n",
       "[                                       ]\n",
       "[0.0  -7.0        -13.0        0.0  -7.0]\n",
       "[                                       ]\n",
       "[0.0  0.0   0.428571428571428  0.0  0.0 ]"
      ]
     },
     "execution_count": 184,
     "metadata": {},
     "output_type": "execute_result"
    }
   ],
   "source": [
    "print('U =')\n",
    "sp.Matrix(a2)"
   ]
  },
  {
   "cell_type": "code",
   "execution_count": null,
   "metadata": {},
   "outputs": [],
   "source": [
    "C = np.matrix([[1,2,3],[5,3,4],[8,3,4],[1,2,3],[5,3,4]])\n",
    "sp.Matrix(C)"
   ]
  }
 ],
 "metadata": {
  "kernelspec": {
   "display_name": "Python 3",
   "language": "python",
   "name": "python3"
  },
  "language_info": {
   "codemirror_mode": {
    "name": "ipython",
    "version": 3
   },
   "file_extension": ".py",
   "mimetype": "text/x-python",
   "name": "python",
   "nbconvert_exporter": "python",
   "pygments_lexer": "ipython3",
   "version": "3.7.1"
  }
 },
 "nbformat": 4,
 "nbformat_minor": 2
}
