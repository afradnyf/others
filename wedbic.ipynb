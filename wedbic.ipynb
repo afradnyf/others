{
 "cells": [
  {
   "cell_type": "code",
   "execution_count": 1,
   "metadata": {},
   "outputs": [],
   "source": [
    "import numpy as np\n",
    "import sympy as sp\n",
    "from sympy.interactive.printing import init_printing\n",
    "from IPython.display import display, Math"
   ]
  },
  {
   "cell_type": "code",
   "execution_count": 2,
   "metadata": {},
   "outputs": [],
   "source": [
    "init_printing(use_unicode=False, wrap_line=False)"
   ]
  },
  {
   "cell_type": "markdown",
   "metadata": {},
   "source": [
    "# Wedderburn "
   ]
  },
  {
   "cell_type": "code",
   "execution_count": 22,
   "metadata": {},
   "outputs": [
    {
     "data": {
      "text/latex": [
       "$$\\left[\\begin{matrix}-38 & 204 & -272 & 358\\\\434 & -493 & 341 & 497\\\\408 & 139 & -496 & 348\\\\-227 & -17 & 230 & -24\\\\-316 & 163 & -246 & 188\\\\-229 & 303 & -370 & -116\\end{matrix}\\right]$$"
      ],
      "text/plain": [
       "[-38   204   -272  358 ]\n",
       "[                      ]\n",
       "[434   -493  341   497 ]\n",
       "[                      ]\n",
       "[408   139   -496  348 ]\n",
       "[                      ]\n",
       "[-227  -17   230   -24 ]\n",
       "[                      ]\n",
       "[-316  163   -246  188 ]\n",
       "[                      ]\n",
       "[-229  303   -370  -116]"
      ]
     },
     "execution_count": 22,
     "metadata": {},
     "output_type": "execute_result"
    }
   ],
   "source": [
    "C = np.random.randint(size = (6,4), high = 500, low = -500)\n",
    "sp.Matrix(C)"
   ]
  },
  {
   "cell_type": "code",
   "execution_count": 537,
   "metadata": {},
   "outputs": [
    {
     "ename": "SyntaxError",
     "evalue": "non-default argument follows default argument (<ipython-input-537-169af9222923>, line 1)",
     "output_type": "error",
     "traceback": [
      "\u001b[0;36m  File \u001b[0;32m\"<ipython-input-537-169af9222923>\"\u001b[0;36m, line \u001b[0;32m1\u001b[0m\n\u001b[0;31m    def wedd(A, sv = False, xk):\u001b[0m\n\u001b[0m            ^\u001b[0m\n\u001b[0;31mSyntaxError\u001b[0m\u001b[0;31m:\u001b[0m non-default argument follows default argument\n"
     ]
    }
   ],
   "source": [
    "def wedd(A, sv = False, xk):\n",
    "    B = A\n",
    "    r = np.linalg.matrix_rank(A)\n",
    "    (m,n) = A.shape\n",
    "    i1 = np.identity(max(m,n))[np.ix_(list(range(m)),list(range(n)))]\n",
    "    i2 = i1.T\n",
    "    k = 0\n",
    "    ans = []\n",
    "    ans.append(B)\n",
    "    ind = np.nonzero(B)\n",
    "    non = (ind[0][0],ind[1][0])\n",
    "    s = []\n",
    "    w = []\n",
    "    ei = []\n",
    "    ej = []\n",
    "    while(abs(B[non]) > 1e-5):\n",
    "        ei.append(i2[:,[non[1]]])\n",
    "        ej.append(i1[:,[non[0]]])\n",
    "        w.append(float(np.matmul(ej[k].T,np.matmul(B,ei[k]))))\n",
    "        eij = np.matmul(ei[k],ej[k].T)\n",
    "        s.append((np.matmul(B,np.matmul(eij,B))/w[k]))\n",
    "        B = B - s[k]\n",
    "        B[abs(B)<1e-8] = 0\n",
    "        ans.append(B)\n",
    "        ind = np.nonzero(B)\n",
    "        try:\n",
    "            non = (ind[0][0],ind[1][0])\n",
    "        except IndexError:\n",
    "            non = (0,0)\n",
    "        k += 1\n",
    "    return(ans,s)"
   ]
  },
  {
   "cell_type": "code",
   "execution_count": 34,
   "metadata": {},
   "outputs": [],
   "source": [
    "a = wedd(C)"
   ]
  },
  {
   "cell_type": "markdown",
   "metadata": {},
   "source": [
    "### The Wedderburn Matrices"
   ]
  },
  {
   "cell_type": "code",
   "execution_count": 35,
   "metadata": {},
   "outputs": [
    {
     "data": {
      "text/latex": [
       "$\\displaystyle \\left[\\begin{matrix}-261 & 51 & -43 & 105\\\\-292 & -109 & -214 & 222\\\\-387 & -51 & 484 & 99\\\\-302 & 78 & -61 & 392\\\\41 & 381 & -66 & 119\\\\-299 & 98 & -227 & -354\\end{matrix}\\right]$"
      ],
      "text/plain": [
       "<IPython.core.display.Math object>"
      ]
     },
     "metadata": {},
     "output_type": "display_data"
    },
    {
     "data": {
      "text/latex": [
       "$\\displaystyle \\left[\\begin{matrix}0.0 & 0.0 & 0.0 & 0.0\\\\0.0 & -166.057471264368 & -165.892720306513 & 104.528735632184\\\\0.0 & -126.620689655172 & 547.758620689655 & -56.6896551724138\\\\0.0 & 18.9885057471264 & -11.2452107279694 & 270.505747126437\\\\0.0 & 389.011494252874 & -72.7547892720306 & 135.494252873563\\\\0.0 & 39.5747126436782 & -177.739463601533 & -474.287356321839\\end{matrix}\\right]$"
      ],
      "text/plain": [
       "<IPython.core.display.Math object>"
      ]
     },
     "metadata": {},
     "output_type": "display_data"
    },
    {
     "data": {
      "text/latex": [
       "$\\displaystyle \\left[\\begin{matrix}0.0 & 0.0 & 0.0 & 0.0\\\\0.0 & 0.0 & 0.0 & 0.0\\\\0.0 & 0.0 & 674.253685886343 & -136.393991832214\\\\0.0 & 0.0 & -30.2148773678503 & 282.458503495535\\\\0.0 & 0.0 & -461.380332710367 & 380.366581297155\\\\0.0 & 0.0 & -217.274912900025 & -449.376133453312\\end{matrix}\\right]$"
      ],
      "text/plain": [
       "<IPython.core.display.Math object>"
      ]
     },
     "metadata": {},
     "output_type": "display_data"
    },
    {
     "data": {
      "text/latex": [
       "$\\displaystyle \\left[\\begin{matrix}0.0 & 0.0 & 0.0 & 0.0\\\\0.0 & 0.0 & 0.0 & 0.0\\\\0.0 & 0.0 & 0.0 & 0.0\\\\0.0 & 0.0 & 0.0 & 276.346371188087\\\\0.0 & 0.0 & 0.0 & 287.034491835133\\\\0.0 & 0.0 & 0.0 & -493.328422207172\\end{matrix}\\right]$"
      ],
      "text/plain": [
       "<IPython.core.display.Math object>"
      ]
     },
     "metadata": {},
     "output_type": "display_data"
    },
    {
     "data": {
      "text/latex": [
       "$\\displaystyle \\left[\\begin{matrix}0.0 & 0.0 & 0.0 & 0.0\\\\0.0 & 0.0 & 0.0 & 0.0\\\\0.0 & 0.0 & 0.0 & 0.0\\\\0.0 & 0.0 & 0.0 & 0.0\\\\0.0 & 0.0 & 0.0 & 0.0\\\\0.0 & 0.0 & 0.0 & 0.0\\end{matrix}\\right]$"
      ],
      "text/plain": [
       "<IPython.core.display.Math object>"
      ]
     },
     "metadata": {},
     "output_type": "display_data"
    }
   ],
   "source": [
    "for i in range(len(a[0])):\n",
    "    t = sp.latex(sp.Matrix(a[0][i]))\n",
    "    r = r'{}'.format(t)\n",
    "    display(Math(r))"
   ]
  },
  {
   "cell_type": "code",
   "execution_count": 36,
   "metadata": {},
   "outputs": [
    {
     "data": {
      "text/plain": [
       "4"
      ]
     },
     "execution_count": 36,
     "metadata": {},
     "output_type": "execute_result"
    }
   ],
   "source": [
    "np.linalg.matrix_rank(a[0][0])"
   ]
  },
  {
   "cell_type": "markdown",
   "metadata": {},
   "source": [
    "### Matrix A as a sum of rank one Matrices"
   ]
  },
  {
   "cell_type": "code",
   "execution_count": 37,
   "metadata": {},
   "outputs": [
    {
     "data": {
      "text/latex": [
       "$\\displaystyle \\left[\\begin{matrix}-261.0 & 51.0 & -43.0 & 105.0\\\\-292.0 & 57.0574712643678 & -48.1072796934866 & 117.471264367816\\\\-387.0 & 75.6206896551724 & -63.7586206896552 & 155.689655172414\\\\-302.0 & 59.0114942528736 & -49.7547892720306 & 121.494252873563\\\\41.0 & -8.01149425287356 & 6.75478927203065 & -16.4942528735632\\\\-299.0 & 58.4252873563218 & -49.2605363984674 & 120.287356321839\\end{matrix}\\right]$"
      ],
      "text/plain": [
       "<IPython.core.display.Math object>"
      ]
     },
     "metadata": {},
     "output_type": "display_data"
    },
    {
     "data": {
      "text/latex": [
       "$\\displaystyle \\left[\\begin{matrix}0.0 & 0.0 & 0.0 & 0.0\\\\0.0 & -166.057471264368 & -165.892720306513 & 104.528735632184\\\\0.0 & -126.620689655172 & -126.495065196688 & 79.7043366598005\\\\0.0 & 18.9885057471264 & 18.969666639881 & -11.9527563690986\\\\0.0 & 389.011494252874 & 388.625543438336 & -244.872328423592\\\\0.0 & 39.5747126436782 & 39.5354492984928 & -24.911222868527\\end{matrix}\\right]$"
      ],
      "text/plain": [
       "<IPython.core.display.Math object>"
      ]
     },
     "metadata": {},
     "output_type": "display_data"
    },
    {
     "data": {
      "text/latex": [
       "$\\displaystyle \\left[\\begin{matrix}0.0 & 0.0 & 0.0 & 0.0\\\\0.0 & 0.0 & 0.0 & 0.0\\\\0.0 & 0.0 & 674.253685886343 & -136.393991832214\\\\0.0 & 0.0 & -30.2148773678503 & 6.11213230744817\\\\0.0 & 0.0 & -461.380332710367 & 93.3320894620217\\\\0.0 & 0.0 & -217.274912900025 & 43.9522887538602\\end{matrix}\\right]$"
      ],
      "text/plain": [
       "<IPython.core.display.Math object>"
      ]
     },
     "metadata": {},
     "output_type": "display_data"
    },
    {
     "data": {
      "text/latex": [
       "$\\displaystyle \\left[\\begin{matrix}0.0 & 0.0 & 0.0 & 0.0\\\\0.0 & 0.0 & 0.0 & 0.0\\\\0.0 & 0.0 & 0.0 & 0.0\\\\0.0 & 0.0 & 0.0 & 276.346371188087\\\\0.0 & 0.0 & 0.0 & 287.034491835133\\\\0.0 & 0.0 & 0.0 & -493.328422207172\\end{matrix}\\right]$"
      ],
      "text/plain": [
       "<IPython.core.display.Math object>"
      ]
     },
     "metadata": {},
     "output_type": "display_data"
    },
    {
     "data": {
      "text/latex": [
       "$$\\left[\\begin{matrix}-261.0 & 51.0 & -43.0 & 105.0\\\\-292.0 & -109.0 & -214.0 & 222.0\\\\-387.0 & -51.0 & 484.0 & 99.0\\\\-302.0 & 78.0 & -61.0 & 392.0\\\\41.0 & 381.0 & -66.0 & 119.0\\\\-299.0 & 98.0 & -227.0 & -354.0\\end{matrix}\\right]$$"
      ],
      "text/plain": [
       "[-261.0   51.0   -43.0   105.0 ]\n",
       "[                              ]\n",
       "[-292.0  -109.0  -214.0  222.0 ]\n",
       "[                              ]\n",
       "[-387.0  -51.0   484.0    99.0 ]\n",
       "[                              ]\n",
       "[-302.0   78.0   -61.0   392.0 ]\n",
       "[                              ]\n",
       "[ 41.0   381.0   -66.0   119.0 ]\n",
       "[                              ]\n",
       "[-299.0   98.0   -227.0  -354.0]"
      ]
     },
     "execution_count": 37,
     "metadata": {},
     "output_type": "execute_result"
    }
   ],
   "source": [
    "for i in range(len(a[1])):\n",
    "    t = sp.latex(sp.Matrix(a[1][i]))\n",
    "    r = r'{}'.format(t)\n",
    "    display(Math(r))\n",
    "(m,n) = a[1][0].shape\n",
    "p = np.zeros((m,n))\n",
    "for i in range(len(a[1])):\n",
    "    p = p + a[1][i]\n",
    "sp.Matrix(p)"
   ]
  },
  {
   "cell_type": "code",
   "execution_count": 38,
   "metadata": {},
   "outputs": [
    {
     "data": {
      "text/plain": [
       "1"
      ]
     },
     "execution_count": 38,
     "metadata": {},
     "output_type": "execute_result"
    }
   ],
   "source": [
    "np.linalg.matrix_rank(a[1][3])"
   ]
  },
  {
   "cell_type": "markdown",
   "metadata": {},
   "source": [
    "# Biconjugation"
   ]
  },
  {
   "cell_type": "code",
   "execution_count": 667,
   "metadata": {},
   "outputs": [],
   "source": [
    "def prin(A):\n",
    "    (m,n) = A.shape\n",
    "    l = []\n",
    "    flag = 0\n",
    "    for i in range(min(m,n)):\n",
    "        l.append(i)\n",
    "        if np.linalg.det(A[np.ix_(l,l)]) == 0:\n",
    "            return(0)\n",
    "    return(1)"
   ]
  },
  {
   "cell_type": "code",
   "execution_count": 668,
   "metadata": {},
   "outputs": [],
   "source": [
    "def bic(A, s, x1 = np.matrix([]), y1 = np.matrix([])):\n",
    "    m = A.shape[0]\n",
    "    n = A.shape[1]\n",
    "    r = np.linalg.matrix_rank(A)\n",
    "    u = []\n",
    "    v = []\n",
    "    w = []\n",
    "    if s == 'trapldu':\n",
    "        X = np.identity(n)[np.ix_(list(range(n)),list(range(r)))]\n",
    "        Y = np.identity(m)[np.ix_(list(range(m)),list(range(r)))]\n",
    "    elif s == 'qr':\n",
    "        X = np.identity(n)\n",
    "        Y = A\n",
    "    elif s == 'cholesky':\n",
    "        X = np.identity(m)\n",
    "        Y = np.identity(m)\n",
    "    elif s == 'sv':\n",
    "        X = x1\n",
    "        Y = y1\n",
    "    else:\n",
    "        print('Invalid Choice')\n",
    "        return()\n",
    "    u.append(X[:,[0]])\n",
    "    v.append(Y[:,[0]])\n",
    "    for k in range(1,r):\n",
    "        sum1 = np.zeros((n,1))\n",
    "        sum2 = np.zeros((m,1))\n",
    "        for j in range(k):\n",
    "            sum1 = sum1 + ((float(np.matmul(np.matmul(v[j].T,A),X[:,[k]]))/float(np.matmul(np.matmul(v[j].T,A),u[j])))*u[j])\n",
    "            sum2 = sum2 + ((float(np.matmul(np.matmul(Y[:,[k]].T,A),u[j]))/float(np.matmul(np.matmul(v[j].T,A),u[j])))*v[j])\n",
    "        u.append(X[:,[k]] - sum1)\n",
    "        v.append(Y[:,[k]] - sum2)\n",
    "    for k in range(r):\n",
    "        w.append(float(np.matmul(np.matmul(v[k].T,A),u[k])))\n",
    "    U = np.concatenate(u, axis = 1)\n",
    "    V = np.concatenate(v, axis = 1)\n",
    "    W = np.diag(w)\n",
    "    if s == 'cholesky':\n",
    "        W1 = np.sqrt(W)\n",
    "        R = np.matmul(W1,np.linalg.inv(U))\n",
    "        return(R)\n",
    "    elif s == 'qr':\n",
    "        W1 = np.sqrt(W)\n",
    "        R = np.matmul(W1,np.linalg.inv(U))\n",
    "        Q = np.matmul(V,np.linalg.inv(W1))\n",
    "        return(Q,R)\n",
    "    elif s == 'trapldu':\n",
    "        L = np.matmul(A,U)\n",
    "        D = np.linalg.inv(W)\n",
    "        U = np.matmul(V.T,A)\n",
    "        return(L,D,U)\n",
    "    elif s == 'sv':\n",
    "        return(U,W,V)\n",
    "    else:\n",
    "        print('Invalid Choice')"
   ]
  },
  {
   "cell_type": "markdown",
   "metadata": {},
   "source": [
    "# QR Decomposition"
   ]
  },
  {
   "cell_type": "code",
   "execution_count": 697,
   "metadata": {},
   "outputs": [
    {
     "data": {
      "text/latex": [
       "$$\\left[\\begin{matrix}355 & 8 & 60\\\\155 & -131 & -230\\\\279 & 260 & -390\\\\-134 & 76 & -187\\end{matrix}\\right]$$"
      ],
      "text/plain": [
       "[355    8     60 ]\n",
       "[                ]\n",
       "[155   -131  -230]\n",
       "[                ]\n",
       "[279   260   -390]\n",
       "[                ]\n",
       "[-134   76   -187]"
      ]
     },
     "execution_count": 697,
     "metadata": {},
     "output_type": "execute_result"
    }
   ],
   "source": [
    "C = np.random.randint(size = (4,3), high = 500, low = -500)\n",
    "sp.Matrix(C)"
   ]
  },
  {
   "cell_type": "code",
   "execution_count": 698,
   "metadata": {},
   "outputs": [],
   "source": [
    "R = bic(C, 'qr')"
   ]
  },
  {
   "cell_type": "code",
   "execution_count": 699,
   "metadata": {},
   "outputs": [
    {
     "data": {
      "text/latex": [
       "$\\displaystyle \\left[\\begin{matrix}355.0 & 8.0 & 60.0\\\\155.0 & -131.0 & -230.0\\\\279.0 & 260.0 & -390.0\\\\-134.0 & 76.0 & -187.0\\end{matrix}\\right] = \\left[\\begin{matrix}0.715971766095763 & -0.197944135628597 & 0.401496700811585\\\\0.312607390830545 & -0.55494329123729 & -0.769538201957684\\\\0.56269330349498 & 0.728261042543475 & -0.280245860917676\\\\-0.270254131427697 & 0.349988452087297 & -0.409967818741493\\end{matrix}\\right] \\left[\\begin{matrix}495.829607829141 & 90.5371508501547 & -197.854259711342\\\\0.0 & 287.061011486994 & -233.709338285419\\\\0.0 & 0.0 & 387.043456361515\\end{matrix}\\right]$"
      ],
      "text/plain": [
       "<IPython.core.display.Math object>"
      ]
     },
     "metadata": {},
     "output_type": "display_data"
    }
   ],
   "source": [
    "t = sp.latex(sp.Eq(sp.Matrix(np.matmul(R[0],R[1])), sp.MatMul(sp.Matrix(R[0]), sp.Matrix(R[1]))))\n",
    "r = r'{}'.format(t)\n",
    "display(Math(r))"
   ]
  },
  {
   "cell_type": "code",
   "execution_count": 700,
   "metadata": {},
   "outputs": [
    {
     "data": {
      "text/latex": [
       "$$\\left[\\begin{matrix}355.0 & 8.0 & 60.0\\\\155.0 & -131.0 & -230.0\\\\279.0 & 260.0 & -390.0\\\\-134.0 & 76.0 & -187.0\\end{matrix}\\right]$$"
      ],
      "text/plain": [
       "[355.0    8.0     60.0 ]\n",
       "[                      ]\n",
       "[155.0   -131.0  -230.0]\n",
       "[                      ]\n",
       "[279.0   260.0   -390.0]\n",
       "[                      ]\n",
       "[-134.0   76.0   -187.0]"
      ]
     },
     "execution_count": 700,
     "metadata": {},
     "output_type": "execute_result"
    }
   ],
   "source": [
    "sp.Matrix(np.matmul(R[0],R[1]))"
   ]
  },
  {
   "cell_type": "code",
   "execution_count": 96,
   "metadata": {},
   "outputs": [
    {
     "name": "stdout",
     "output_type": "stream",
     "text": [
      "Q = \n"
     ]
    },
    {
     "data": {
      "text/latex": [
       "$$\\left[\\begin{matrix}-0.460182935780716 & 0.61223413653157 & -0.556818751237619\\\\0.432342686996829 & 0.231524491573826 & -0.510526950059498\\\\-0.766425672403469 & -0.122217720189985 & 0.144655627375159\\\\0.117911641908226 & 0.746075465846778 & 0.639053879576538\\end{matrix}\\right]$$"
      ],
      "text/plain": [
       "[-0.460182935780716   0.61223413653157   -0.556818751237619]\n",
       "[                                                          ]\n",
       "[0.432342686996829   0.231524491573826   -0.510526950059498]\n",
       "[                                                          ]\n",
       "[-0.766425672403469  -0.122217720189985  0.144655627375159 ]\n",
       "[                                                          ]\n",
       "[0.117911641908226   0.746075465846778   0.639053879576538 ]"
      ]
     },
     "execution_count": 96,
     "metadata": {},
     "output_type": "execute_result"
    }
   ],
   "source": [
    "print('Q = ')\n",
    "sp.Matrix(R[0])"
   ]
  },
  {
   "cell_type": "code",
   "execution_count": 97,
   "metadata": {},
   "outputs": [
    {
     "name": "stdout",
     "output_type": "stream",
     "text": [
      "R = \n"
     ]
    },
    {
     "data": {
      "text/latex": [
       "$$\\left[\\begin{matrix}610.62672722376 & -84.406721327665 & -406.873772344652\\\\0.0 & 611.134604972353 & 149.846070140819\\\\0.0 & 0.0 & 501.019848550319\\end{matrix}\\right]$$"
      ],
      "text/plain": [
       "[610.62672722376  -84.406721327665  -406.873772344652]\n",
       "[                                                    ]\n",
       "[      0.0        611.134604972353  149.846070140819 ]\n",
       "[                                                    ]\n",
       "[      0.0              0.0         501.019848550319 ]"
      ]
     },
     "execution_count": 97,
     "metadata": {},
     "output_type": "execute_result"
    }
   ],
   "source": [
    "print('R = ')\n",
    "sp.Matrix(R[1])"
   ]
  },
  {
   "cell_type": "markdown",
   "metadata": {},
   "source": [
    "# Cholesky Factorisation"
   ]
  },
  {
   "cell_type": "code",
   "execution_count": 701,
   "metadata": {},
   "outputs": [],
   "source": [
    "A = np.random.randint(low = 1,high = 100, size = (3,3))\n",
    "C = np.dot(A,A.T)"
   ]
  },
  {
   "cell_type": "code",
   "execution_count": 702,
   "metadata": {},
   "outputs": [
    {
     "data": {
      "text/latex": [
       "$$\\left[\\begin{matrix}15530 & 8084 & 9301\\\\8084 & 4280 & 5126\\\\9301 & 5126 & 7118\\end{matrix}\\right]$$"
      ],
      "text/plain": [
       "[15530  8084  9301]\n",
       "[                 ]\n",
       "[8084   4280  5126]\n",
       "[                 ]\n",
       "[9301   5126  7118]"
      ]
     },
     "execution_count": 702,
     "metadata": {},
     "output_type": "execute_result"
    }
   ],
   "source": [
    "sp.Matrix(C)"
   ]
  },
  {
   "cell_type": "code",
   "execution_count": 703,
   "metadata": {},
   "outputs": [],
   "source": [
    "R = bic(C, 'cholesky')"
   ]
  },
  {
   "cell_type": "code",
   "execution_count": 704,
   "metadata": {},
   "outputs": [
    {
     "data": {
      "text/latex": [
       "$\\displaystyle \\left[\\begin{matrix}15530 & 8084 & 9301\\\\8084 & 4280 & 5126\\\\9301 & 5126 & 7118\\end{matrix}\\right] = \\left[\\begin{matrix}124.619420637395 & 0.0 & 0.0\\\\64.8695039557438 & 8.48218465583824 & 0.0\\\\74.6352370475474 & 33.5348977471814 & 20.5667698956958\\end{matrix}\\right] \\left[\\begin{matrix}124.619420637395 & 64.8695039557438 & 74.6352370475474\\\\0.0 & 8.48218465583824 & 33.5348977471814\\\\0.0 & 0.0 & 20.5667698956958\\end{matrix}\\right]$"
      ],
      "text/plain": [
       "<IPython.core.display.Math object>"
      ]
     },
     "metadata": {},
     "output_type": "display_data"
    }
   ],
   "source": [
    "t = sp.latex(sp.Eq(sp.Matrix(C), sp.MatMul(sp.Matrix(R.T), sp.Matrix(R))))\n",
    "r = r'{}'.format(t)\n",
    "display(Math(r))"
   ]
  },
  {
   "cell_type": "code",
   "execution_count": 102,
   "metadata": {},
   "outputs": [
    {
     "data": {
      "text/latex": [
       "$$\\left[\\begin{matrix}6731.0 & 9613.0 & 10754.0\\\\9613.0 & 14171.0 & 16318.0\\\\10754.0 & 16318.0 & 19694.0\\end{matrix}\\right]$$"
      ],
      "text/plain": [
       "[6731.0   9613.0   10754.0]\n",
       "[                         ]\n",
       "[9613.0   14171.0  16318.0]\n",
       "[                         ]\n",
       "[10754.0  16318.0  19694.0]"
      ]
     },
     "execution_count": 102,
     "metadata": {},
     "output_type": "execute_result"
    }
   ],
   "source": [
    "sp.Matrix(np.matmul(R.T,R))"
   ]
  },
  {
   "cell_type": "code",
   "execution_count": 103,
   "metadata": {},
   "outputs": [
    {
     "name": "stdout",
     "output_type": "stream",
     "text": [
      "R = \n"
     ]
    },
    {
     "data": {
      "text/latex": [
       "$$\\left[\\begin{matrix}82.0426718238747 & 117.170733062384 & 131.078129964931\\\\0.0 & 21.0242553643056 & 45.6367850816537\\\\0.0 & 0.0 & 20.7318038845559\\end{matrix}\\right]$$"
      ],
      "text/plain": [
       "[82.0426718238747  117.170733062384  131.078129964931]\n",
       "[                                                    ]\n",
       "[      0.0         21.0242553643056  45.6367850816537]\n",
       "[                                                    ]\n",
       "[      0.0               0.0         20.7318038845559]"
      ]
     },
     "execution_count": 103,
     "metadata": {},
     "output_type": "execute_result"
    }
   ],
   "source": [
    "print('R = ')\n",
    "sp.Matrix(R)"
   ]
  },
  {
   "cell_type": "markdown",
   "metadata": {},
   "source": [
    "# LDU Facatorisation"
   ]
  },
  {
   "cell_type": "code",
   "execution_count": 716,
   "metadata": {},
   "outputs": [
    {
     "data": {
      "text/latex": [
       "$$\\left[\\begin{matrix}-92 & -104 & -340\\\\115 & -126 & -132\\\\-408 & 17 & 300\\\\-495 & -36 & 167\\\\-17 & -287 & -55\\\\-22 & -342 & -11\\\\433 & 176 & -293\\end{matrix}\\right]$$"
      ],
      "text/plain": [
       "[-92   -104  -340]\n",
       "[                ]\n",
       "[115   -126  -132]\n",
       "[                ]\n",
       "[-408   17   300 ]\n",
       "[                ]\n",
       "[-495  -36   167 ]\n",
       "[                ]\n",
       "[-17   -287  -55 ]\n",
       "[                ]\n",
       "[-22   -342  -11 ]\n",
       "[                ]\n",
       "[433   176   -293]"
      ]
     },
     "execution_count": 716,
     "metadata": {},
     "output_type": "execute_result"
    }
   ],
   "source": [
    "C = np.random.randint(size = (7,3), high = 500, low = -500)\n",
    "sp.Matrix(C)"
   ]
  },
  {
   "cell_type": "code",
   "execution_count": 717,
   "metadata": {},
   "outputs": [],
   "source": [
    "R = bic(C,'trapldu')"
   ]
  },
  {
   "cell_type": "code",
   "execution_count": 718,
   "metadata": {},
   "outputs": [],
   "source": [
    "a0 = R[0]\n",
    "a2 = R[2]\n",
    "a1 = R[1]"
   ]
  },
  {
   "cell_type": "code",
   "execution_count": 719,
   "metadata": {},
   "outputs": [],
   "source": [
    "a0[abs(a0)<1e-10] = 0\n",
    "a2[abs(a2)<1e-10] = 0\n",
    "a1[abs(a1)<1e-10] = 0"
   ]
  },
  {
   "cell_type": "code",
   "execution_count": 720,
   "metadata": {},
   "outputs": [
    {
     "data": {
      "text/latex": [
       "$\\displaystyle \\left[\\begin{matrix}-92.0 & -104.0 & -340.0\\\\115.0 & -126.0 & -132.0\\\\-408.0 & 16.9999999999999 & 300.0\\\\-495.0 & -36.0 & 167.0\\\\-17.0 & -287.0 & -55.0\\\\-22.0 & -342.0 & -10.9999999999999\\\\433.0 & 176.0 & -293.0\\end{matrix}\\right] = \\left[\\begin{matrix}-92.0 & 0.0 & 0.0\\\\115.0 & -256.0 & 0.0\\\\-408.0 & 478.217391304348 & 767.329653532609\\\\-495.0 & 523.565217391304 & 857.184442934783\\\\-17.0 & -267.782608695652 & 590.462466032609\\\\-22.0 & -317.130434782609 & 760.310801630435\\\\433.0 & -313.478260869565 & -1211.15726902174\\end{matrix}\\right] \\left[\\begin{matrix}-0.0108695652173913 & 0.0 & 0.0\\\\0.0 & -0.00390625 & 0.0\\\\0.0 & 0.0 & 0.00130322084569029\\end{matrix}\\right] \\left[\\begin{matrix}-92.0 & -104.0 & -340.0\\\\0.0 & -256.0 & -557.0\\\\0.0 & 0.0 & 767.329653532609\\end{matrix}\\right]$"
      ],
      "text/plain": [
       "<IPython.core.display.Math object>"
      ]
     },
     "metadata": {},
     "output_type": "display_data"
    }
   ],
   "source": [
    "t = sp.latex(sp.Eq(sp.Matrix(np.matmul(np.matmul(R[0],R[1]),R[2])), sp.MatMul(sp.MatMul(sp.Matrix(a0), sp.Matrix(a1), sp.Matrix(a2)))))\n",
    "r = r'{}'.format(t)\n",
    "display(Math(r))"
   ]
  },
  {
   "cell_type": "code",
   "execution_count": 109,
   "metadata": {},
   "outputs": [
    {
     "data": {
      "text/latex": [
       "$$\\left[\\begin{matrix}-377.0 & -464.0 & -216.0\\\\-361.0 & -101.0 & -456.0\\\\273.0 & 456.0 & -63.0000000000001\\\\167.0 & -198.0 & 116.0\\\\-453.0 & 84.0000000000001 & -336.0\\\\100.0 & 466.0 & -95.0\\\\-124.0 & -395.0 & -471.0\\end{matrix}\\right]$$"
      ],
      "text/plain": [
       "[-377.0       -464.0            -216.0      ]\n",
       "[                                           ]\n",
       "[-361.0       -101.0            -456.0      ]\n",
       "[                                           ]\n",
       "[273.0        456.0        -63.0000000000001]\n",
       "[                                           ]\n",
       "[167.0        -198.0             116.0      ]\n",
       "[                                           ]\n",
       "[-453.0  84.0000000000001       -336.0      ]\n",
       "[                                           ]\n",
       "[100.0        466.0              -95.0      ]\n",
       "[                                           ]\n",
       "[-124.0       -395.0            -471.0      ]"
      ]
     },
     "execution_count": 109,
     "metadata": {},
     "output_type": "execute_result"
    }
   ],
   "source": [
    "sp.Matrix(np.matmul(np.matmul(R[0],R[1]),R[2]))"
   ]
  },
  {
   "cell_type": "code",
   "execution_count": 110,
   "metadata": {},
   "outputs": [
    {
     "name": "stdout",
     "output_type": "stream",
     "text": [
      "L = \n"
     ]
    },
    {
     "data": {
      "text/latex": [
       "$$\\left[\\begin{matrix}-377.0 & 0.0 & 0.0\\\\-361.0 & 343.307692307692 & 0.0\\\\273.0 & 120.0 & -132.319755537871\\\\167.0 & -403.538461538462 & -272.563313682616\\\\-453.0 & 641.538461538462 & 389.161890486529\\\\100.0 & 342.923076923077 & 96.5935314887929\\\\-124.0 & -242.384615384615 & -575.873697142018\\end{matrix}\\right]$$"
      ],
      "text/plain": [
       "[-377.0         0.0                0.0       ]\n",
       "[                                            ]\n",
       "[-361.0  343.307692307692          0.0       ]\n",
       "[                                            ]\n",
       "[273.0         120.0        -132.319755537871]\n",
       "[                                            ]\n",
       "[167.0   -403.538461538462  -272.563313682616]\n",
       "[                                            ]\n",
       "[-453.0  641.538461538462   389.161890486529 ]\n",
       "[                                            ]\n",
       "[100.0   342.923076923077   96.5935314887929 ]\n",
       "[                                            ]\n",
       "[-124.0  -242.384615384615  -575.873697142018]"
      ]
     },
     "execution_count": 110,
     "metadata": {},
     "output_type": "execute_result"
    }
   ],
   "source": [
    "print('L = ')\n",
    "sp.Matrix(a0)"
   ]
  },
  {
   "cell_type": "code",
   "execution_count": 111,
   "metadata": {},
   "outputs": [
    {
     "name": "stdout",
     "output_type": "stream",
     "text": [
      "D =\n"
     ]
    },
    {
     "data": {
      "text/latex": [
       "$$\\left[\\begin{matrix}-0.0026525198938992 & 0.0 & 0.0\\\\0.0 & 0.00291283889760251 & 0.0\\\\0.0 & 0.0 & -0.00755745047997609\\end{matrix}\\right]$$"
      ],
      "text/plain": [
       "[-0.0026525198938992          0.0                  0.0         ]\n",
       "[                                                              ]\n",
       "[        0.0          0.00291283889760251          0.0         ]\n",
       "[                                                              ]\n",
       "[        0.0                  0.0          -0.00755745047997609]"
      ]
     },
     "execution_count": 111,
     "metadata": {},
     "output_type": "execute_result"
    }
   ],
   "source": [
    "print('D =')\n",
    "sp.Matrix(a1)"
   ]
  },
  {
   "cell_type": "code",
   "execution_count": 112,
   "metadata": {},
   "outputs": [
    {
     "name": "stdout",
     "output_type": "stream",
     "text": [
      "U =\n"
     ]
    },
    {
     "data": {
      "text/latex": [
       "$$\\left[\\begin{matrix}-377.0 & -464.0 & -216.0\\\\0.0 & 343.307692307692 & -249.167108753316\\\\0.0 & 0.0 & -132.319755537871\\end{matrix}\\right]$$"
      ],
      "text/plain": [
       "[-377.0       -464.0            -216.0      ]\n",
       "[                                           ]\n",
       "[ 0.0    343.307692307692  -249.167108753316]\n",
       "[                                           ]\n",
       "[ 0.0          0.0         -132.319755537871]"
      ]
     },
     "execution_count": 112,
     "metadata": {},
     "output_type": "execute_result"
    }
   ],
   "source": [
    "print('U =')\n",
    "sp.Matrix(a2)"
   ]
  },
  {
   "cell_type": "code",
   "execution_count": 411,
   "metadata": {},
   "outputs": [
    {
     "data": {
      "text/latex": [
       "$$\\left[\\begin{matrix}1 & 2 & 3\\\\5 & 3 & 4\\\\8 & 3 & 4\\\\1 & 2 & 3\\\\5 & 3 & 4\\end{matrix}\\right]$$"
      ],
      "text/plain": [
       "[1  2  3]\n",
       "[       ]\n",
       "[5  3  4]\n",
       "[       ]\n",
       "[8  3  4]\n",
       "[       ]\n",
       "[1  2  3]\n",
       "[       ]\n",
       "[5  3  4]"
      ]
     },
     "execution_count": 411,
     "metadata": {},
     "output_type": "execute_result"
    }
   ],
   "source": [
    "C = np.matrix([[1,2,3],[5,3,4],[8,3,4],[1,2,3],[5,3,4]])\n",
    "sp.Matrix(C)"
   ]
  },
  {
   "cell_type": "markdown",
   "metadata": {},
   "source": [
    "# SVD"
   ]
  },
  {
   "cell_type": "code",
   "execution_count": 3,
   "metadata": {},
   "outputs": [],
   "source": [
    "from scipy.optimize import minimize"
   ]
  },
  {
   "cell_type": "code",
   "execution_count": 4,
   "metadata": {},
   "outputs": [
    {
     "data": {
      "text/latex": [
       "$$\\left[\\begin{matrix}-134 & 132 & 69 & -357\\\\-316 & 469 & 129 & 323\\\\196 & 411 & 274 & -108\\\\410 & -460 & 487 & 142\\\\48 & 283 & 343 & -166\\end{matrix}\\right]$$"
      ],
      "text/plain": [
       "[-134  132   69   -357]\n",
       "[                     ]\n",
       "[-316  469   129  323 ]\n",
       "[                     ]\n",
       "[196   411   274  -108]\n",
       "[                     ]\n",
       "[410   -460  487  142 ]\n",
       "[                     ]\n",
       "[ 48   283   343  -166]"
      ]
     },
     "execution_count": 4,
     "metadata": {},
     "output_type": "execute_result"
    }
   ],
   "source": [
    "C = np.random.randint(size = (5,4), high = 500, low = -500)\n",
    "sp.Matrix(C)"
   ]
  },
  {
   "cell_type": "code",
   "execution_count": 5,
   "metadata": {},
   "outputs": [],
   "source": [
    "def maxim2(C):\n",
    "    m,n = C.shape\n",
    "    def objective1(x):\n",
    "        x1 = np.matrix(x).T\n",
    "        return(-np.linalg.norm(np.matmul(C,x1)))\n",
    "    def constraint1(x):\n",
    "        x1 = np.array(x)\n",
    "        return(np.dot(x1,x1) - 1)\n",
    "\n",
    "    x0 = [0 for i in list(range(n))]\n",
    "    con1 = {'type': 'eq', 'fun': constraint1}\n",
    "\n",
    "    cons = [con1]\n",
    "    sol = minimize(objective1,x0,method='SLSQP',constraints=cons)\n",
    "    return(sol)"
   ]
  },
  {
   "cell_type": "code",
   "execution_count": 6,
   "metadata": {},
   "outputs": [],
   "source": [
    "def sv1(C):\n",
    "    m,n = C.shape\n",
    "    r = np.linalg.matrix_rank(C)\n",
    "    u = []\n",
    "    v = []\n",
    "    w = []\n",
    "    for i in range(r):\n",
    "        u.append(np.matrix(maxim2(C).x).T)\n",
    "        v.append(np.matrix(np.matmul(C,u[i])/np.linalg.norm(np.matmul(C,u[i]))))\n",
    "        w.append(float(np.matmul(v[i].T,np.matmul(C,u[i]))))\n",
    "        C = C - (w[i]*(np.matmul(v[i],u[i].T)))\n",
    "    U = np.concatenate(u, axis = 1)\n",
    "    V = np.concatenate(v, axis = 1)\n",
    "    print(w)\n",
    "    W = np.diag(w)\n",
    "    return(U,W,V)"
   ]
  },
  {
   "cell_type": "code",
   "execution_count": 7,
   "metadata": {},
   "outputs": [
    {
     "name": "stdout",
     "output_type": "stream",
     "text": [
      "[917.8286212393269, 757.0957332626533, 541.1374275784985, 242.18166224374866]\n"
     ]
    }
   ],
   "source": [
    "U,W,V = sv1(C)"
   ]
  },
  {
   "cell_type": "code",
   "execution_count": 8,
   "metadata": {},
   "outputs": [
    {
     "data": {
      "text/latex": [
       "$$\\left[\\begin{matrix}-134 & 132 & 69 & -357\\\\-316 & 469 & 129 & 323\\\\196 & 411 & 274 & -108\\\\410 & -460 & 487 & 142\\\\48 & 283 & 343 & -166\\end{matrix}\\right]$$"
      ],
      "text/plain": [
       "[-134  132   69   -357]\n",
       "[                     ]\n",
       "[-316  469   129  323 ]\n",
       "[                     ]\n",
       "[196   411   274  -108]\n",
       "[                     ]\n",
       "[410   -460  487  142 ]\n",
       "[                     ]\n",
       "[ 48   283   343  -166]"
      ]
     },
     "execution_count": 8,
     "metadata": {},
     "output_type": "execute_result"
    }
   ],
   "source": [
    "sp.Matrix(C)"
   ]
  },
  {
   "cell_type": "code",
   "execution_count": 9,
   "metadata": {},
   "outputs": [],
   "source": [
    "ans = sp.Matrix(np.matmul(np.matmul(V,W),U.T))"
   ]
  },
  {
   "cell_type": "code",
   "execution_count": 10,
   "metadata": {},
   "outputs": [
    {
     "data": {
      "text/latex": [
       "$\\displaystyle \\left[\\begin{matrix}-133.999956444238 & 131.999985330161 & 69.0000620861088 & -356.99998884531\\\\-316.000029788828 & 469.000034662607 & 128.999981336194 & 323.000006863577\\\\196.000000886393 & 410.999971461717 & 273.999975726505 & -108.000011299504\\\\409.999994948707 & -459.999990545335 & 487.000001193945 & 142.000005894312\\\\48.0000195506869 & 282.999986988714 & 343.000022788323 & -165.999995488223\\end{matrix}\\right] = \\left[\\begin{matrix}0.205680481336935 & 0.122846965736994 & -0.588709987702607 & -0.609844643610638\\\\0.563390311982758 & 0.170627110216995 & 0.71662222612305 & -0.328500737077449\\\\0.236025428640656 & 0.616916387656068 & -0.137657003073054 & 0.632304766324935\\\\-0.740920063658436 & 0.504591779732925 & 0.287994084187148 & -0.272390797945934\\\\0.188722951080015 & 0.566212255903701 & -0.194892514950655 & -0.214873711924316\\end{matrix}\\right] \\left[\\begin{matrix}917.828621239327 & 0.0 & 0.0 & 0.0\\\\0.0 & 757.095733262653 & 0.0 & 0.0\\\\0.0 & 0.0 & 541.137427578499 & 0.0\\\\0.0 & 0.0 & 0.0 & 242.181662243749\\end{matrix}\\right] \\left[\\begin{matrix}-0.494700429220077 & 0.852684343557387 & -0.157497446868403 & -0.0582704917932065\\\\0.37590583515982 & 0.367084929845482 & 0.844634850338173 & -0.102642228002678\\\\-0.121639227016272 & 0.0261989839812514 & 0.161715265753546 & 0.978961533726823\\\\0.774060784464108 & 0.370798603734861 & -0.485422375516938 & 0.166443428263037\\end{matrix}\\right]$"
      ],
      "text/plain": [
       "<IPython.core.display.Math object>"
      ]
     },
     "metadata": {},
     "output_type": "display_data"
    }
   ],
   "source": [
    "t = sp.latex(sp.Eq(sp.Matrix(ans), sp.MatMul(sp.MatMul(sp.Matrix(V), sp.Matrix(W)), sp.Matrix(U.T))))\n",
    "r = r'{}'.format(t)\n",
    "display(Math(r))"
   ]
  },
  {
   "cell_type": "code",
   "execution_count": 11,
   "metadata": {},
   "outputs": [
    {
     "data": {
      "text/plain": [
       "(array([[-0.20568041, -0.12284701,  0.58870998, -0.60984498],\n",
       "        [-0.56339027, -0.17062726, -0.71662221, -0.32850122],\n",
       "        [-0.23602536, -0.61691647,  0.13765703,  0.63230437],\n",
       "        [ 0.74092017, -0.50459157, -0.28799412, -0.27239011],\n",
       "        [-0.18872283, -0.5662123 ,  0.19489252, -0.21487406]]),\n",
       " array([917.82862105, 757.09573326, 541.13742758, 242.18166224]),\n",
       " array([[ 0.49470031, -0.85268436,  0.15749776,  0.0582704 ],\n",
       "        [-0.37590576, -0.36708517, -0.84463478,  0.10264223],\n",
       "        [ 0.12163918, -0.02619886, -0.1617154 , -0.97896152],\n",
       "        [ 0.77406096,  0.37079844, -0.48542216,  0.1664436 ]]))"
      ]
     },
     "execution_count": 11,
     "metadata": {},
     "output_type": "execute_result"
    }
   ],
   "source": [
    "np.linalg.svd(C, full_matrices = False)"
   ]
  },
  {
   "cell_type": "code",
   "execution_count": null,
   "metadata": {},
   "outputs": [],
   "source": []
  }
 ],
 "metadata": {
  "kernelspec": {
   "display_name": "Python 3",
   "language": "python",
   "name": "python3"
  },
  "language_info": {
   "codemirror_mode": {
    "name": "ipython",
    "version": 3
   },
   "file_extension": ".py",
   "mimetype": "text/x-python",
   "name": "python",
   "nbconvert_exporter": "python",
   "pygments_lexer": "ipython3",
   "version": "3.7.1"
  }
 },
 "nbformat": 4,
 "nbformat_minor": 2
}
